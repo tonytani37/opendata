{
  "cells": [
    {
      "cell_type": "markdown",
      "metadata": {
        "id": "view-in-github",
        "colab_type": "text"
      },
      "source": [
        "<a href=\"https://colab.research.google.com/github/tonytani37/opendata/blob/main/%E6%9D%B1%E4%BA%AC%E9%83%BDwifi%E8%A8%AD%E7%BD%AE%E5%A0%B4%E6%89%80.ipynb\" target=\"_parent\"><img src=\"https://colab.research.google.com/assets/colab-badge.svg\" alt=\"Open In Colab\"/></a>"
      ]
    },
    {
      "cell_type": "code",
      "source": [
        "# url= \"https://opendata.city.minato.tokyo.jp/dataset/ec151316-0fbd-4646-8cfa-4039b98be199/resource/685fa9f8-f5ae-4f36-bc2e-d1bda933e5c0/download/131032_public_wireless_lan.json\"\n",
        "# url='https://raw.githubusercontent.com/tokyo-metropolitan-gov/covid19/development/data/daily_positive_detail.json'\n",
        "url=\"https://api.data.metro.tokyo.lg.jp/v1/WifiAccessPoint\"\n",
        "import requests,json\n",
        "res = requests.get(url)\n",
        "data = json.loads(res.text)"
      ],
      "metadata": {
        "id": "gOeDD89KG_Xs"
      },
      "execution_count": null,
      "outputs": []
    },
    {
      "cell_type": "code",
      "source": [
        "# lst = [[a['properties']['名称'],a['properties']['名称_カナ'],a['properties']['所在地_連結表記'],a['geometry']['coordinates'][1],a['geometry']['coordinates'][0]] for a in data['features']]\n",
        "# lst = [[a['設置地点']['名称'][0]['表記']] for a in data[0]]\n",
        "lst = [[a['設置地点']['名称'][0]['表記'],a['設置地点']['住所']['表記'],a['設置地点']['地理座標']['緯度'],a['設置地点']['地理座標']['経度']] for a in data[0]]"
      ],
      "metadata": {
        "id": "28cNiPy4UqG9"
      },
      "execution_count": 97,
      "outputs": []
    },
    {
      "cell_type": "code",
      "source": [
        "import pandas as pd\n",
        "df = pd.DataFrame(lst,columns=['名称','住所','緯度','経度'])"
      ],
      "metadata": {
        "id": "9HOUUIS9V8eH"
      },
      "execution_count": 104,
      "outputs": []
    },
    {
      "cell_type": "code",
      "source": [
        "df.to_csv('wifi_932.csv',encoding='cp932')\n",
        "df.to_csv('wifi_utf8.csv')"
      ],
      "metadata": {
        "id": "a8X645QhXDq-"
      },
      "execution_count": 115,
      "outputs": []
    }
  ],
  "metadata": {
    "colab": {
      "name": "Colaboratory へようこそ",
      "provenance": [],
      "include_colab_link": true
    },
    "kernelspec": {
      "display_name": "Python 3",
      "name": "python3"
    }
  },
  "nbformat": 4,
  "nbformat_minor": 0
}